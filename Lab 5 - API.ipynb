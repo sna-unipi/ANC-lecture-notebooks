{
 "cells": [
  {
   "cell_type": "markdown",
   "id": "6827a609-8322-494d-812c-ab4d9f9438a6",
   "metadata": {},
   "source": [
    "<span>\n",
    "<b>Author:</b> <a href=\"http://about.giuliorossetti.net\">Giulio Rossetti</a><br/>\n",
    "<b>Python version:</b>  >=3.9<br/>\n",
    "</span>\n",
    "\n",
    "<a id='top'></a>\n",
    "\n",
    "Working with a simple API server"
   ]
  },
  {
   "cell_type": "code",
   "execution_count": 37,
   "id": "initial_id",
   "metadata": {
    "jupyter": {
     "is_executing": true
    }
   },
   "outputs": [],
   "source": [
    "from requests import post, get\n",
    "import json"
   ]
  },
  {
   "cell_type": "code",
   "execution_count": 38,
   "id": "512eea48ec4a6cc5",
   "metadata": {},
   "outputs": [],
   "source": [
    "base_url = \"http://127.0.0.1:5000\"\n",
    "headers = {\"Content-Type\": \"application/x-www-form-urlencoded\"}"
   ]
  },
  {
   "cell_type": "code",
   "execution_count": 41,
   "id": "f8f57d29-8be7-4d4f-b8d3-ab5af3effe40",
   "metadata": {},
   "outputs": [
    {
     "name": "stdout",
     "output_type": "stream",
     "text": [
      "node:  3585\n"
     ]
    }
   ],
   "source": [
    "api_url = f\"{base_url}/random_node\"\n",
    "res = get(f\"{api_url}\", headers=headers).json()\n",
    "node_id = res[\"node\"]\n",
    "print(\"node: \", node_id)"
   ]
  },
  {
   "cell_type": "code",
   "execution_count": 42,
   "id": "04a0f544-db88-403d-9ca7-0c244a699c45",
   "metadata": {},
   "outputs": [
    {
     "name": "stdout",
     "output_type": "stream",
     "text": [
      "neighbors:  {'status': 200, 'friends': ['1536', '1741', '3149', '3823', '3823']}\n"
     ]
    }
   ],
   "source": [
    "api_url = f\"{base_url}/friends\"\n",
    "res = post(f\"{api_url}\", headers=headers, data=json.dumps({\"uid\": node_id, \"page\": 1}))\n",
    "        \n",
    "print(\"neighbors: \", res.json())"
   ]
  },
  {
   "cell_type": "markdown",
   "id": "47a87b42-0f70-4b73-ab78-7fdbc46fab21",
   "metadata": {},
   "source": [
    "### Exercise\n",
    "\n",
    "1. Write a BFS using the provided API endpoints\n",
    "2. Write a DFS using the provided API endpoints\n",
    "3. Write a conditional sampling that levera"
   ]
  }
 ],
 "metadata": {
  "kernelspec": {
   "display_name": "Python 3 (ipykernel)",
   "language": "python",
   "name": "python3"
  },
  "language_info": {
   "codemirror_mode": {
    "name": "ipython",
    "version": 3
   },
   "file_extension": ".py",
   "mimetype": "text/x-python",
   "name": "python",
   "nbconvert_exporter": "python",
   "pygments_lexer": "ipython3",
   "version": "3.9.13"
  }
 },
 "nbformat": 4,
 "nbformat_minor": 5
}
