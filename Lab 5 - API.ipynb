{
 "cells": [
  {
   "cell_type": "markdown",
   "id": "6827a609-8322-494d-812c-ab4d9f9438a6",
   "metadata": {},
   "source": [
    "<span>\n",
    "<b>Author:</b> <a href=\"http://about.giuliorossetti.net\">Giulio Rossetti</a><br/>\n",
    "<b>Python version:</b>  >=3.9<br/>\n",
    "</span>\n",
    "\n",
    "<a id='top'></a>\n",
    "\n",
    "Working with a simple API server"
   ]
  },
  {
   "cell_type": "code",
   "execution_count": 8,
   "id": "initial_id",
   "metadata": {
    "jupyter": {
     "is_executing": true
    }
   },
   "outputs": [],
   "source": [
    "from requests import post, get\n",
    "import json"
   ]
  },
  {
   "cell_type": "code",
   "execution_count": 9,
   "id": "512eea48ec4a6cc5",
   "metadata": {},
   "outputs": [],
   "source": [
    "base_url = \"http://kddsna.isti.cnr.it:5000\"\n",
    "headers = {\"Content-Type\": \"application/x-www-form-urlencoded\"}"
   ]
  },
  {
   "cell_type": "code",
   "execution_count": 10,
   "id": "f8f57d29-8be7-4d4f-b8d3-ab5af3effe40",
   "metadata": {},
   "outputs": [
    {
     "name": "stdout",
     "output_type": "stream",
     "text": [
      "node:  180\n"
     ]
    }
   ],
   "source": [
    "api_url = f\"{base_url}/random_node\"\n",
    "res = get(f\"{api_url}\", headers=headers).json()\n",
    "node_id = res[\"node\"]\n",
    "print(\"node: \", node_id)"
   ]
  },
  {
   "cell_type": "code",
   "execution_count": 11,
   "id": "04a0f544-db88-403d-9ca7-0c244a699c45",
   "metadata": {},
   "outputs": [
    {
     "name": "stdout",
     "output_type": "stream",
     "text": [
      "neighbors:  {'status': 200, 'friends': ['9', '21', '79', '84', '102']}\n"
     ]
    }
   ],
   "source": [
    "api_url = f\"{base_url}/friends\"\n",
    "res = post(f\"{api_url}\", headers=headers, data=json.dumps({\"uid\": node_id, \"page\": 1})).json()\n",
    "        \n",
    "print(\"neighbors: \", res)"
   ]
  },
  {
   "cell_type": "code",
   "execution_count": 12,
   "id": "013ba1a8-fad3-4016-a7db-367f5005c3f0",
   "metadata": {},
   "outputs": [
    {
     "data": {
      "text/plain": [
       "['9', '21', '79', '84', '102']"
      ]
     },
     "execution_count": 12,
     "metadata": {},
     "output_type": "execute_result"
    }
   ],
   "source": [
    "res['friends']"
   ]
  },
  {
   "cell_type": "markdown",
   "id": "47a87b42-0f70-4b73-ab78-7fdbc46fab21",
   "metadata": {},
   "source": [
    "### Exercise\n",
    "\n",
    "1. Implement a BFS using the provided API endpoints\n",
    "2. Implement a DFS using the provided API endpoints\n",
    "3. Implement a conditional sampling schema that, leveraging BFS, expands only even id nodes"
   ]
  },
  {
   "cell_type": "code",
   "execution_count": null,
   "id": "a3024d90-322e-4c6d-a3cd-5e96189ab3ef",
   "metadata": {},
   "outputs": [],
   "source": []
  }
 ],
 "metadata": {
  "kernelspec": {
   "display_name": "Python 3 (ipykernel)",
   "language": "python",
   "name": "python3"
  },
  "language_info": {
   "codemirror_mode": {
    "name": "ipython",
    "version": 3
   },
   "file_extension": ".py",
   "mimetype": "text/x-python",
   "name": "python",
   "nbconvert_exporter": "python",
   "pygments_lexer": "ipython3",
   "version": "3.9.13"
  }
 },
 "nbformat": 4,
 "nbformat_minor": 5
}
