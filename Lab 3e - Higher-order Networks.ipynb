{
 "cells": [
  {
   "cell_type": "markdown",
   "id": "b6b5c83b-0b38-475a-bd2e-2ad57b48c777",
   "metadata": {},
   "source": [
    "# Hypergraph modeling with Hypergraphx\n",
    "<code>Hypergraphx</code> is designed to model and analyze hypergraphs. This is is meant to be an introductory tutorial. For more advanced features, please refer to the official [documentation](hypergraphx.readthedocs.io/en/latest/#).\n",
    "\n",
    "The easiest way to install hypergraphx is via pip:\n",
    "\n",
    "    pip install hypergraphx\n",
    "\n",
    "Start by importing the library:"
   ]
  },
  {
   "cell_type": "code",
   "execution_count": 1,
   "id": "134987b4-5dd9-43ca-8732-78934a68acdc",
   "metadata": {
    "ExecuteTime": {
     "end_time": "2024-10-01T11:39:02.377352Z",
     "start_time": "2024-10-01T11:39:02.371927Z"
    }
   },
   "outputs": [],
   "source": [
    "import hypergraphx as hgx"
   ]
  },
  {
   "cell_type": "markdown",
   "id": "4266a727-a752-49ec-8db7-ba939ad5fbc5",
   "metadata": {},
   "source": [
    "## Hypergraph manipulation"
   ]
  },
  {
   "cell_type": "markdown",
   "id": "59c5805b-47bf-46fb-911f-e484ee10a3fa",
   "metadata": {},
   "source": [
    "With <code>hgx</code>, (static, undirected) hypergraphs are modeled with the <code>Hypergraph</code> class. The first part of this tutorial will go through some of its basic functionalities.\n",
    "\n",
    "There are several ways to create a hypergraph. You can directly pass the hyperedge list to the constructor. At creation, you must also specify whether the hypergraph will allow edge weights or not. If <code>weighted</code> is <code>True</code>, a list of edge weights must be provided via the <code>weights</code> parameter, otherwise a <code>ValueError</code> exception will be thrown."
   ]
  },
  {
   "cell_type": "code",
   "execution_count": 2,
   "id": "57356d87-bcfe-4192-99de-12fd5cee8c00",
   "metadata": {
    "ExecuteTime": {
     "end_time": "2024-10-01T11:39:03.040678Z",
     "start_time": "2024-10-01T11:39:03.036885Z"
    }
   },
   "outputs": [],
   "source": [
    "h = hgx.Hypergraph([(1, 3), \n",
    "                    (1, 4), \n",
    "                    (1, 2), \n",
    "                    \n",
    "                    (5, 6, 7, 8), \n",
    "                    (1, 2, 3)\n",
    "                   ],\n",
    "                   \n",
    "                   weighted=False,\n",
    "                   #weights=[.4, .5, .9, .3, .3]\n",
    "                  )"
   ]
  },
  {
   "cell_type": "markdown",
   "id": "a48277cb-0470-45e8-bf64-c18001f0ef39",
   "metadata": {},
   "source": [
    "To add nodes, use the corresponding methods."
   ]
  },
  {
   "cell_type": "code",
   "execution_count": 3,
   "id": "7510b693-687a-4847-870f-6fa17ff81121",
   "metadata": {
    "ExecuteTime": {
     "end_time": "2024-10-01T11:39:03.211567Z",
     "start_time": "2024-10-01T11:39:03.207541Z"
    }
   },
   "outputs": [],
   "source": [
    "h.add_node(9) # one at a time\n",
    "h.add_nodes([10, 11, 12]) # list of nodes"
   ]
  },
  {
   "cell_type": "markdown",
   "id": "40b3529d-f9b5-41f8-b39a-c829dbf68915",
   "metadata": {},
   "source": [
    "Hyperedges can also be added to the hypergraph via the corresponding methods. In <code>hgx</code>, hyperedges are simply called \"edges\". Note that if the hypergraph is weighted you must also pass the weights.\n",
    "\n",
    "If any node does not exist, it will be added automatically."
   ]
  },
  {
   "cell_type": "code",
   "execution_count": 4,
   "id": "75e56ca4-3330-48b0-92de-3f2b21eab44c",
   "metadata": {
    "ExecuteTime": {
     "end_time": "2024-10-01T11:39:03.376176Z",
     "start_time": "2024-10-01T11:39:03.373353Z"
    }
   },
   "outputs": [],
   "source": [
    "h.add_edge([9,10,11]) # one at a time\n",
    "h.add_edges([ # list of edges\n",
    "    [9,10],\n",
    "    [9, 11, 12, 13]\n",
    "]) "
   ]
  },
  {
   "cell_type": "markdown",
   "id": "55b0910e-90bf-42a5-bb67-0d817c19ee67",
   "metadata": {},
   "source": [
    "Printing the object displays some of its properties"
   ]
  },
  {
   "cell_type": "code",
   "execution_count": 5,
   "id": "11c8ec17-7976-4e6d-b8b6-b2b0f56d7cb0",
   "metadata": {
    "ExecuteTime": {
     "end_time": "2024-10-01T11:39:03.543893Z",
     "start_time": "2024-10-01T11:39:03.540471Z"
    }
   },
   "outputs": [
    {
     "name": "stdout",
     "output_type": "stream",
     "text": [
      "Hypergraph with 13 nodes and 8 edges.\n",
      "Distribution of hyperedge sizes: {2: 4, 4: 2, 3: 2}\n"
     ]
    }
   ],
   "source": [
    "print(h)"
   ]
  },
  {
   "cell_type": "markdown",
   "id": "bc24ecac-506d-47d5-8cf3-cb5d23e4433f",
   "metadata": {},
   "source": [
    "Similarly, <code>hgx</code> also allows to remove nodes and edges."
   ]
  },
  {
   "cell_type": "code",
   "execution_count": 6,
   "id": "5d96340e-46a2-4917-a84c-7adbf63faceb",
   "metadata": {
    "ExecuteTime": {
     "end_time": "2024-10-01T11:39:03.712419Z",
     "start_time": "2024-10-01T11:39:03.708802Z"
    }
   },
   "outputs": [],
   "source": [
    "h.remove_edge([9,11,12,13])\n",
    "h.remove_node(13)"
   ]
  },
  {
   "cell_type": "markdown",
   "id": "fa231d65-aec0-4867-b293-2759247afa07",
   "metadata": {},
   "source": [
    "Let's check the node/edge does not exist anymore"
   ]
  },
  {
   "cell_type": "code",
   "execution_count": 7,
   "id": "d7dcf581-8e48-4fcb-9dfd-19a925a5e7af",
   "metadata": {
    "ExecuteTime": {
     "end_time": "2024-10-01T11:39:03.873628Z",
     "start_time": "2024-10-01T11:39:03.869894Z"
    }
   },
   "outputs": [
    {
     "data": {
      "text/plain": [
       "False"
      ]
     },
     "execution_count": 7,
     "metadata": {},
     "output_type": "execute_result"
    }
   ],
   "source": [
    "h.check_node(13)"
   ]
  },
  {
   "cell_type": "code",
   "execution_count": 8,
   "id": "2b826d44-8282-49a5-b3a1-b1dfe73de94d",
   "metadata": {
    "ExecuteTime": {
     "end_time": "2024-10-01T11:39:03.971722Z",
     "start_time": "2024-10-01T11:39:03.967162Z"
    }
   },
   "outputs": [
    {
     "data": {
      "text/plain": [
       "False"
      ]
     },
     "execution_count": 8,
     "metadata": {},
     "output_type": "execute_result"
    }
   ],
   "source": [
    "h.check_edge([9,11,12,13])"
   ]
  },
  {
   "cell_type": "markdown",
   "id": "1f8b860e-ba60-4717-a2d0-4bbc34bc9539",
   "metadata": {},
   "source": [
    "Finally, a drawing utility is available in a separate module."
   ]
  },
  {
   "cell_type": "code",
   "execution_count": 9,
   "id": "373a3911-cf27-4f4a-8f57-bada72f724cc",
   "metadata": {
    "ExecuteTime": {
     "end_time": "2024-10-01T11:39:05.083182Z",
     "start_time": "2024-10-01T11:39:04.130285Z"
    }
   },
   "outputs": [
    {
     "data": {
      "image/png": "[encoded data removed]",
      "text/plain": [
       "<Figure size 1200x700 with 1 Axes>"
      ]
     },
     "metadata": {},
     "output_type": "display_data"
    }
   ],
   "source": [
    "from hypergraphx.viz.draw_hypergraph import draw_hypergraph\n",
    "draw_hypergraph(h)"
   ]
  },
  {
   "cell_type": "markdown",
   "id": "c589d699-d486-474a-9d34-2ac4770317b1",
   "metadata": {},
   "source": [
    "## Hypergraph Analysis\n",
    "In this section, we will go through basic commands to retrieve information from the hypergra To get statistics such as the number of nodes or edges:"
   ]
  },
  {
   "cell_type": "code",
   "execution_count": 10,
   "id": "73650c18-f3fa-49ca-bae1-91b7ce13666c",
   "metadata": {
    "ExecuteTime": {
     "end_time": "2024-10-01T11:39:05.090203Z",
     "start_time": "2024-10-01T11:39:05.085797Z"
    }
   },
   "outputs": [
    {
     "data": {
      "text/plain": [
       "12"
      ]
     },
     "execution_count": 10,
     "metadata": {},
     "output_type": "execute_result"
    }
   ],
   "source": [
    "h.num_nodes()"
   ]
  },
  {
   "cell_type": "code",
   "execution_count": 11,
   "id": "e50d72c2-834f-44d5-9736-38744be48f73",
   "metadata": {
    "ExecuteTime": {
     "end_time": "2024-10-01T11:39:05.688050Z",
     "start_time": "2024-10-01T11:39:05.684549Z"
    }
   },
   "outputs": [
    {
     "data": {
      "text/plain": [
       "7"
      ]
     },
     "execution_count": 11,
     "metadata": {},
     "output_type": "execute_result"
    }
   ],
   "source": [
    "h.num_edges()"
   ]
  },
  {
   "cell_type": "markdown",
   "id": "444628c6-7551-40c4-b354-5cff9ac6ca9e",
   "metadata": {},
   "source": [
    "To get the list of nodes:"
   ]
  },
  {
   "cell_type": "code",
   "execution_count": 12,
   "id": "2c7eca94-3af9-4bdb-864e-a598c56744b1",
   "metadata": {
    "ExecuteTime": {
     "end_time": "2024-10-01T11:39:07.560398Z",
     "start_time": "2024-10-01T11:39:07.556499Z"
    }
   },
   "outputs": [
    {
     "data": {
      "text/plain": [
       "[1, 3, 4, 2, 5, 6, 7, 8, 9, 10, 11, 12]"
      ]
     },
     "execution_count": 12,
     "metadata": {},
     "output_type": "execute_result"
    }
   ],
   "source": [
    "h.get_nodes()"
   ]
  },
  {
   "cell_type": "markdown",
   "id": "04689a3c-a7eb-4181-89ff-4fe7d5d89b4b",
   "metadata": {},
   "source": [
    "To get the hyperedge list:"
   ]
  },
  {
   "cell_type": "code",
   "execution_count": 13,
   "id": "6d6ebffa-c008-4d4d-afb1-7ac245cee797",
   "metadata": {
    "ExecuteTime": {
     "end_time": "2024-10-01T11:39:08.367144Z",
     "start_time": "2024-10-01T11:39:08.362886Z"
    }
   },
   "outputs": [
    {
     "data": {
      "text/plain": [
       "[(1, 3), (1, 4), (1, 2), (5, 6, 7, 8), (1, 2, 3), (9, 10, 11), (9, 10)]"
      ]
     },
     "execution_count": 13,
     "metadata": {},
     "output_type": "execute_result"
    }
   ],
   "source": [
    "h.get_edges()"
   ]
  },
  {
   "cell_type": "markdown",
   "id": "531146bd-b8e7-4ef6-8364-9ce913263458",
   "metadata": {},
   "source": [
    "The <code>Hypergraph</code> object can act as an iterator over the **hyperedges**. Note this is different from e.g., <code>networkx</code>, where a similar syntax is used to iterate over nodes."
   ]
  },
  {
   "cell_type": "code",
   "execution_count": 14,
   "id": "3b3b9244-c02f-425d-a4f5-03ecee295e9a",
   "metadata": {
    "ExecuteTime": {
     "end_time": "2024-10-01T11:39:09.298713Z",
     "start_time": "2024-10-01T11:39:09.296358Z"
    }
   },
   "outputs": [],
   "source": [
    "for edge in h:\n",
    "    # do something\n",
    "    pass"
   ]
  },
  {
   "cell_type": "markdown",
   "id": "7453972e-4859-4bc1-abb9-53614956d434",
   "metadata": {},
   "source": [
    "The following methods return booleans describing some characteristics of the hypergraph."
   ]
  },
  {
   "cell_type": "code",
   "execution_count": 15,
   "id": "060df116-202b-4cde-86e3-790bb8dfaa60",
   "metadata": {
    "ExecuteTime": {
     "end_time": "2024-10-01T11:39:10.349832Z",
     "start_time": "2024-10-01T11:39:10.345356Z"
    }
   },
   "outputs": [
    {
     "data": {
      "text/plain": [
       "(False, False, False)"
      ]
     },
     "execution_count": 15,
     "metadata": {},
     "output_type": "execute_result"
    }
   ],
   "source": [
    "h.is_uniform(), h.is_weighted(), h.is_connected()"
   ]
  },
  {
   "cell_type": "markdown",
   "id": "38ef754b-cddb-492d-b201-10504ca2d692",
   "metadata": {},
   "source": [
    "The node degree distribution can be computed as follows. This returns a dictionary mapping degrees to the number of nodes having that degree"
   ]
  },
  {
   "cell_type": "code",
   "execution_count": 16,
   "id": "ed1add28-f558-4e66-8873-ceaf2a4e4f03",
   "metadata": {
    "ExecuteTime": {
     "end_time": "2024-10-01T11:39:11.979191Z",
     "start_time": "2024-10-01T11:39:11.975940Z"
    }
   },
   "outputs": [
    {
     "data": {
      "text/plain": [
       "{4: 1, 2: 4, 1: 6, 0: 1}"
      ]
     },
     "execution_count": 16,
     "metadata": {},
     "output_type": "execute_result"
    }
   ],
   "source": [
    "h.degree_distribution()"
   ]
  },
  {
   "cell_type": "markdown",
   "id": "ff090541-aad0-4218-a586-c0e659300027",
   "metadata": {},
   "source": [
    "To visually inspect node degree distribution:"
   ]
  },
  {
   "cell_type": "code",
   "execution_count": 17,
   "id": "f58f812a-1c23-4322-88a5-ffebfe4f309a",
   "metadata": {
    "ExecuteTime": {
     "end_time": "2024-10-01T11:39:13.027160Z",
     "start_time": "2024-10-01T11:39:12.888278Z"
    }
   },
   "outputs": [
    {
     "data": {
      "image/png": "[encoded data removed]",
      "text/plain": [
       "<Figure size 640x480 with 1 Axes>"
      ]
     },
     "metadata": {},
     "output_type": "display_data"
    }
   ],
   "source": [
    "import matplotlib.pyplot as plt\n",
    "import seaborn as sns\n",
    "\n",
    "cnt = h.degree_distribution()\n",
    "deg = cnt.keys()\n",
    "freq = cnt.values()\n",
    "ax = sns.scatterplot(x=deg, y=freq, alpha=.6)\n",
    "ax.grid(alpha=.2)\n",
    "#ax.loglog()"
   ]
  },
  {
   "cell_type": "markdown",
   "id": "09795aa0-0bd2-4808-ad2c-0ee2b0a05b6e",
   "metadata": {},
   "source": [
    "Similarly, we can compute the hyperedge size distribution. The <code>get_sizes</code> method returns a list of sizes. "
   ]
  },
  {
   "cell_type": "code",
   "execution_count": 18,
   "id": "a4c762fb-0be7-4fc0-afad-008eec53915d",
   "metadata": {
    "ExecuteTime": {
     "end_time": "2024-10-01T11:39:13.880309Z",
     "start_time": "2024-10-01T11:39:13.876949Z"
    }
   },
   "outputs": [
    {
     "data": {
      "text/plain": [
       "[2, 2, 2, 4, 3, 3, 2]"
      ]
     },
     "execution_count": 18,
     "metadata": {},
     "output_type": "execute_result"
    }
   ],
   "source": [
    "h.get_sizes()"
   ]
  },
  {
   "cell_type": "markdown",
   "id": "dd495724-3ad4-4f77-ae8f-9b1276d72407",
   "metadata": {},
   "source": [
    "We first need to count the number of edges for each size with the <code>Counter</code>."
   ]
  },
  {
   "cell_type": "code",
   "execution_count": 19,
   "id": "c015a0f2-4e69-4f2f-be29-6a38766ffc7f",
   "metadata": {
    "ExecuteTime": {
     "end_time": "2024-10-01T11:39:15.003839Z",
     "start_time": "2024-10-01T11:39:15.000673Z"
    }
   },
   "outputs": [
    {
     "data": {
      "text/plain": [
       "Counter({2: 4, 3: 2, 4: 1})"
      ]
     },
     "execution_count": 19,
     "metadata": {},
     "output_type": "execute_result"
    }
   ],
   "source": [
    "from collections import Counter\n",
    "Counter(h.get_sizes())"
   ]
  },
  {
   "cell_type": "markdown",
   "id": "802bd0fc-859d-46f0-b261-40befcef14a7",
   "metadata": {},
   "source": [
    "Then, to display the distribution:"
   ]
  },
  {
   "cell_type": "code",
   "execution_count": 20,
   "id": "bdd16a5a-e4f6-468a-a2e9-e4a2fa323966",
   "metadata": {
    "ExecuteTime": {
     "end_time": "2024-10-01T11:39:16.259610Z",
     "start_time": "2024-10-01T11:39:16.124529Z"
    }
   },
   "outputs": [
    {
     "data": {
      "image/png": "[encoded data removed]",
      "text/plain": [
       "<Figure size 640x480 with 1 Axes>"
      ]
     },
     "metadata": {},
     "output_type": "display_data"
    }
   ],
   "source": [
    "cnt = Counter(h.get_sizes())\n",
    "deg = cnt.keys()\n",
    "freq = cnt.values()\n",
    "ax = sns.scatterplot(x=deg, y=freq, alpha=.6)\n",
    "ax.grid(alpha=.2)\n",
    "#ax.loglog()"
   ]
  },
  {
   "cell_type": "markdown",
   "id": "2394fe98-42f8-4946-8c2c-0b500ed1727b",
   "metadata": {},
   "source": [
    "A useful representation of hypergraph data is the adjacency matrix. Here, rows and columns refer to nodes, and values at the intersections are the number of hyperedges two nodes have in common.\n"
   ]
  },
  {
   "cell_type": "code",
   "execution_count": 21,
   "id": "8d5d6154-398d-46cc-afd5-7fc9a811c2cd",
   "metadata": {
    "ExecuteTime": {
     "end_time": "2024-10-01T11:39:17.549313Z",
     "start_time": "2024-10-01T11:39:17.542768Z"
    }
   },
   "outputs": [
    {
     "name": "stderr",
     "output_type": "stream",
     "text": [
      "/usr/local/lib/python3.11/site-packages/scipy/sparse/_index.py:143: SparseEfficiencyWarning: Changing the sparsity structure of a csr_matrix is expensive. lil_matrix is more efficient.\n",
      "  self._set_arrayXarray(i, j, x)\n"
     ]
    },
    {
     "data": {
      "text/plain": [
       "array([[0, 2, 2, 1, 0, 0, 0, 0, 0, 0, 0, 0],\n",
       "       [2, 0, 1, 0, 0, 0, 0, 0, 0, 0, 0, 0],\n",
       "       [2, 1, 0, 0, 0, 0, 0, 0, 0, 0, 0, 0],\n",
       "       [1, 0, 0, 0, 0, 0, 0, 0, 0, 0, 0, 0],\n",
       "       [0, 0, 0, 0, 0, 1, 1, 1, 0, 0, 0, 0],\n",
       "       [0, 0, 0, 0, 1, 0, 1, 1, 0, 0, 0, 0],\n",
       "       [0, 0, 0, 0, 1, 1, 0, 1, 0, 0, 0, 0],\n",
       "       [0, 0, 0, 0, 1, 1, 1, 0, 0, 0, 0, 0],\n",
       "       [0, 0, 0, 0, 0, 0, 0, 0, 0, 2, 1, 0],\n",
       "       [0, 0, 0, 0, 0, 0, 0, 0, 2, 0, 1, 0],\n",
       "       [0, 0, 0, 0, 0, 0, 0, 0, 1, 1, 0, 0],\n",
       "       [0, 0, 0, 0, 0, 0, 0, 0, 0, 0, 0, 0]], dtype=uint8)"
      ]
     },
     "execution_count": 21,
     "metadata": {},
     "output_type": "execute_result"
    }
   ],
   "source": [
    "A = h.adjacency_matrix()\n",
    "A.toarray()"
   ]
  },
  {
   "cell_type": "markdown",
   "id": "75cdb3a3-0b57-4c40-a21d-ca2219d430ce",
   "metadata": {},
   "source": [
    "Another useful representation is the incidence matrix. Here, rows are nodes and columns are hyperedges. Values at the intersections tell whether a hyperedge contains (1) a node or not (0)."
   ]
  },
  {
   "cell_type": "code",
   "execution_count": 23,
   "id": "58ee4115-343c-4606-9e00-d769934b9de0",
   "metadata": {
    "ExecuteTime": {
     "end_time": "2024-10-01T11:40:22.560204Z",
     "start_time": "2024-10-01T11:40:22.523815Z"
    }
   },
   "outputs": [
    {
     "data": {
      "text/plain": [
       "array([[1, 1, 1, 0, 1, 0, 0],\n",
       "       [0, 0, 1, 0, 1, 0, 0],\n",
       "       [1, 0, 0, 0, 1, 0, 0],\n",
       "       [0, 1, 0, 0, 0, 0, 0],\n",
       "       [0, 0, 0, 1, 0, 0, 0],\n",
       "       [0, 0, 0, 1, 0, 0, 0],\n",
       "       [0, 0, 0, 1, 0, 0, 0],\n",
       "       [0, 0, 0, 1, 0, 0, 0],\n",
       "       [0, 0, 0, 0, 0, 1, 1],\n",
       "       [0, 0, 0, 0, 0, 1, 1],\n",
       "       [0, 0, 0, 0, 0, 1, 0],\n",
       "       [0, 0, 0, 0, 0, 0, 0]])"
      ]
     },
     "execution_count": 23,
     "metadata": {},
     "output_type": "execute_result"
    }
   ],
   "source": [
    "A = h.incidence_matrix() \n",
    "A.toarray()"
   ]
  },
  {
   "cell_type": "markdown",
   "id": "51c4ddb9-f9b1-46ea-8dd2-81482ba8fdc8",
   "metadata": {},
   "source": [
    "## Other measures and utilities\n",
    "<code>hgx</code> offers a wide variety of features, including higher-order community detection, synthetic hypergraph generation, and motifs. However, as this is meant to be an introductory tutorial, we will leave these features for you to explore. Nevertheless, here are some methods you might find useful."
   ]
  },
  {
   "cell_type": "markdown",
   "id": "55bbd7f6-971c-4724-a513-a40b702b5c0e",
   "metadata": {},
   "source": [
    "#### creating a random hypergraph with controlled number of nodes and hyperedge size distribution"
   ]
  },
  {
   "cell_type": "code",
   "execution_count": 47,
   "id": "55cbf085-6c7b-4794-bd2f-fe97308fe10c",
   "metadata": {
    "ExecuteTime": {
     "end_time": "2024-10-01T11:40:29.873207Z",
     "start_time": "2024-10-01T11:40:29.862925Z"
    }
   },
   "outputs": [],
   "source": [
    "from hypergraphx.generation.random import random_hypergraph\n",
    "rh = random_hypergraph(20, {2:7 , 3: 5, 4: 3})"
   ]
  },
  {
   "cell_type": "code",
   "execution_count": 48,
   "id": "75c7ffd2-6d59-44f1-ab7b-0b256f67390c",
   "metadata": {
    "ExecuteTime": {
     "end_time": "2024-10-01T11:40:30.498519Z",
     "start_time": "2024-10-01T11:40:30.495384Z"
    }
   },
   "outputs": [
    {
     "name": "stdout",
     "output_type": "stream",
     "text": [
      "Hypergraph with 20 nodes and 15 edges.\n",
      "Distribution of hyperedge sizes: {2: 7, 3: 5, 4: 3}\n"
     ]
    }
   ],
   "source": [
    "print(rh)"
   ]
  },
  {
   "cell_type": "markdown",
   "id": "ae3a7f5f-134a-4a40-a4f5-970315a5cb5a",
   "metadata": {},
   "source": [
    "#### centralities\n",
    "Recall that pairwise graph measures can be extended to hypergraphs via the s-analysis framework."
   ]
  },
  {
   "cell_type": "code",
   "execution_count": 49,
   "id": "53b4e42a-f662-4d8c-9e3f-b2c187858487",
   "metadata": {
    "ExecuteTime": {
     "end_time": "2024-10-01T11:40:31.372038Z",
     "start_time": "2024-10-01T11:40:31.364643Z"
    }
   },
   "outputs": [
    {
     "data": {
      "text/plain": [
       "{(13, 14): 0.5384615384615384,\n",
       " (8, 14): 0.5185185185185185,\n",
       " (2, 13): 0.42424242424242425,\n",
       " (0, 12): 0.5384615384615384,\n",
       " (8, 18): 0.45161290322580644,\n",
       " (14, 18): 0.5185185185185185,\n",
       " (4, 11): 0.4827586206896552,\n",
       " (1, 11, 17): 0.4827586206896552,\n",
       " (7, 11, 15): 0.5,\n",
       " (2, 6, 14): 0.6363636363636364,\n",
       " (6, 13, 16): 0.5384615384615384,\n",
       " (4, 15, 19): 0.42424242424242425,\n",
       " (0, 3, 14, 18): 0.7,\n",
       " (0, 15, 17, 19): 0.6086956521739131,\n",
       " (0, 6, 7, 11): 0.7}"
      ]
     },
     "execution_count": 49,
     "metadata": {},
     "output_type": "execute_result"
    }
   ],
   "source": [
    "from hypergraphx.measures.s_centralities import s_closeness\n",
    "cls_1 = s_closeness(rh, s=1)\n",
    "cls_1"
   ]
  },
  {
   "cell_type": "code",
   "execution_count": 50,
   "id": "21fdbc73-be1e-4a17-81c6-082b9895ba0f",
   "metadata": {
    "ExecuteTime": {
     "end_time": "2024-10-01T11:40:31.891742Z",
     "start_time": "2024-10-01T11:40:31.886948Z"
    }
   },
   "outputs": [
    {
     "data": {
      "text/plain": [
       "{(13, 14): 0.0,\n",
       " (8, 14): 0.0,\n",
       " (2, 13): 0.0,\n",
       " (0, 12): 0.0,\n",
       " (8, 18): 0.0,\n",
       " (14, 18): 0.07142857142857142,\n",
       " (4, 11): 0.0,\n",
       " (1, 11, 17): 0.0,\n",
       " (7, 11, 15): 0.07142857142857142,\n",
       " (2, 6, 14): 0.0,\n",
       " (6, 13, 16): 0.0,\n",
       " (4, 15, 19): 0.07142857142857142,\n",
       " (0, 3, 14, 18): 0.07142857142857142,\n",
       " (0, 15, 17, 19): 0.07142857142857142,\n",
       " (0, 6, 7, 11): 0.07142857142857142}"
      ]
     },
     "execution_count": 50,
     "metadata": {},
     "output_type": "execute_result"
    }
   ],
   "source": [
    "cls_3 = s_closeness(rh, s=2)\n",
    "cls_3"
   ]
  },
  {
   "cell_type": "markdown",
   "id": "5af9f7c1-be15-4792-ba73-1fbfda03c885",
   "metadata": {},
   "source": [
    "## Hypergraph I/O\n",
    "The package offers dedicated methods to save/load hypergraphs to files. The supported file types are .json and .pickle"
   ]
  },
  {
   "cell_type": "code",
   "execution_count": 51,
   "id": "aa867999-42ee-4c65-9273-576c664d1d35",
   "metadata": {
    "ExecuteTime": {
     "end_time": "2024-10-01T11:40:32.985301Z",
     "start_time": "2024-10-01T11:40:32.980873Z"
    }
   },
   "outputs": [],
   "source": [
    "from hypergraphx.readwrite.save import save_hypergraph"
   ]
  },
  {
   "cell_type": "code",
   "execution_count": 52,
   "id": "860b5d48-bc16-46bf-8ebb-17c2b81dcb0c",
   "metadata": {
    "ExecuteTime": {
     "end_time": "2024-10-01T11:40:33.925619Z",
     "start_time": "2024-10-01T11:40:33.920904Z"
    }
   },
   "outputs": [],
   "source": [
    "save_hypergraph(rh, 'my_hypergraph.json', 'json')"
   ]
  },
  {
   "cell_type": "code",
   "execution_count": 53,
   "id": "4b774621-3b57-4b05-ac24-462531c51157",
   "metadata": {
    "ExecuteTime": {
     "end_time": "2024-10-01T11:40:35.359906Z",
     "start_time": "2024-10-01T11:40:35.356507Z"
    }
   },
   "outputs": [],
   "source": [
    "from hypergraphx.readwrite.load import load_hypergraph"
   ]
  },
  {
   "cell_type": "code",
   "execution_count": 54,
   "id": "02889aba-bcb5-45b2-b503-d89da3b53ace",
   "metadata": {
    "ExecuteTime": {
     "end_time": "2024-10-01T11:40:35.786127Z",
     "start_time": "2024-10-01T11:40:35.781417Z"
    }
   },
   "outputs": [
    {
     "name": "stdout",
     "output_type": "stream",
     "text": [
      "Hypergraph with 20 nodes and 15 edges.\n",
      "Distribution of hyperedge sizes: {2: 7, 3: 5, 4: 3}\n"
     ]
    }
   ],
   "source": [
    "h = load_hypergraph('my_hypergraph.json', 'json')\n",
    "print(h)"
   ]
  },
  {
   "cell_type": "markdown",
   "id": "19ef585c-5b71-4ba9-b98a-c1fc71628d5b",
   "metadata": {
    "ExecuteTime": {
     "end_time": "2024-10-01T11:40:38.555362Z",
     "start_time": "2024-10-01T11:40:38.553388Z"
    }
   },
   "source": [
    "## Exercises: Sociopatterns-Infectious\n",
    "The sociopatterns-infectious network describes the face-to-face behavior of people during the exhibition INFECTIOUS: STAY AWAY in 2009 at the Science Gallery in Dublin.\n",
    "Nodes represent exhibition visitors; edges represent face-to-face contacts that were active for at least 20 seconds. The network contains the data from the day with the most interactions.\n",
    "\n",
    "Take a look at the file in *data/sociopatterns-infectious/out.sociopatterns-infectious*. The data is provided as a timestamped, weighted edgelist. The first two columns identify (undirected) edges, the third encodes the weight, while the last one encodes a timestamp."
   ]
  },
  {
   "cell_type": "code",
   "execution_count": 108,
   "id": "6062cb79-0eb6-4b48-857e-9ea83bbc0188",
   "metadata": {},
   "outputs": [],
   "source": [
    "def load_pairwise_infectious():\n",
    "    g = nx.Graph()\n",
    "    with open('data/sociopatterns-infectious/out.sociopatterns-infectious') as f:\n",
    "        f.readline()\n",
    "        f.readline()\n",
    "        for l in f:\n",
    "            e = l.split()[:2]\n",
    "            g.add_edge(int(e[0]), int(e[1]))\n",
    "    return g\n",
    "    \n",
    "g = load_pairwise_infectious()"
   ]
  },
  {
   "cell_type": "markdown",
   "id": "0edf08e5-c30e-4b69-9e79-298f322f4378",
   "metadata": {},
   "source": [
    "Sometimes, even when data comes as pairwise interactions, it might make sense to study it with an higher-order approach. In this case, for instance, cliques on the face-to-face network describe a group of people facing each other.\n",
    "\n",
    "**E1: Build a hypergraph from the pairwise graph by the means of all maximal cliques. Remove trivial hyperedges such as pairwise edges or singletons. Subsequently, remove isolated nodes. Then, compute the number of nodes and edges**"
   ]
  },
  {
   "cell_type": "code",
   "execution_count": null,
   "id": "3207d59c-0f71-4484-b6dc-fe4438e052ae",
   "metadata": {},
   "outputs": [],
   "source": []
  },
  {
   "cell_type": "markdown",
   "id": "59cfb4d7-e81c-46f1-82de-3e48bce9de37",
   "metadata": {},
   "source": [
    "**E2: Identify the node with the highest degree. Compute s-closeness centrality for various s values. Is the highest-degree node also the highest ranked by centrality? Is this affected by s? Why?**"
   ]
  },
  {
   "cell_type": "code",
   "execution_count": null,
   "id": "9b6c2c94-f58c-4c35-8f39-5c9f79dcd690",
   "metadata": {},
   "outputs": [],
   "source": [
    "# E2 here"
   ]
  },
  {
   "cell_type": "markdown",
   "id": "58f55e5d-5323-491c-aa6a-7bf28cb54255",
   "metadata": {},
   "source": [
    "**E3: Plot the degree and hyperedge size distribution of the hypergraph. Then, plot the distribution of the number of neighbors.** Think about the difference between node degree and number of neighbors in a hypergraph scenario."
   ]
  },
  {
   "cell_type": "code",
   "execution_count": null,
   "id": "ec16b797-72c3-43fb-92d1-e967c0259908",
   "metadata": {},
   "outputs": [],
   "source": [
    "# E3 here"
   ]
  },
  {
   "cell_type": "code",
   "execution_count": null,
   "id": "0148015a-b083-4bdd-8d11-9b4ac08324b6",
   "metadata": {},
   "outputs": [],
   "source": []
  },
  {
   "cell_type": "markdown",
   "id": "cda8efd3-c7f7-4e72-8e33-c15d468c5039",
   "metadata": {},
   "source": [
    "# ASH: Attributed Stream-Hypergraphs\n",
    "\n",
    "In the remaining part of the lab, we will introduce <code>ash</code>,  a Python software package that allows to represent and analyze dynamic hypergraphs enriched with node attributes.\n",
    "\n",
    "The library is available via pip and conda. However, the latest developmental version contains various bug fixes so its installation is strongly suggested via:\n",
    "    \n",
    "    pip install git+https://github.com/GiulioRossetti/ASH.git \n",
    "\n",
    "Note: this will install a nightly build. In the next release, the API will change widely. This notebook will be updated accordingly when the next release is launched.\n",
    "\n",
    "We can import the library as <code>ash_model</code>:"
   ]
  },
  {
   "cell_type": "code",
   "execution_count": 26,
   "id": "819f2ea1-9043-4802-aa4c-bc340dfe40fa",
   "metadata": {
    "ExecuteTime": {
     "end_time": "2024-10-01T11:40:42.103002Z",
     "start_time": "2024-10-01T11:40:42.096860Z"
    }
   },
   "outputs": [],
   "source": [
    "import ash_model"
   ]
  },
  {
   "cell_type": "markdown",
   "id": "ef3fdecb-7cf0-4f7d-837f-41b4d75450ef",
   "metadata": {},
   "source": [
    "### Creating an ASH\n",
    "Create an empty ASH with no nodes and no edges. During the construction phase the <code>hedge_removal</code> parameter allows to specify if the structure will allow hyperedge removal or not."
   ]
  },
  {
   "cell_type": "code",
   "execution_count": 27,
   "id": "8816f5f0-8dc4-424f-ac86-6426e526054d",
   "metadata": {
    "ExecuteTime": {
     "end_time": "2024-10-01T11:40:44.746282Z",
     "start_time": "2024-10-01T11:40:44.743864Z"
    }
   },
   "outputs": [],
   "source": [
    "from ash_model import ASH"
   ]
  },
  {
   "cell_type": "code",
   "execution_count": 28,
   "id": "a476ade5-c429-4abe-bafc-52710d996ad3",
   "metadata": {
    "ExecuteTime": {
     "end_time": "2024-10-01T11:40:45.704074Z",
     "start_time": "2024-10-01T11:40:45.701250Z"
    }
   },
   "outputs": [],
   "source": [
    "h = ASH(hedge_removal=True)"
   ]
  },
  {
   "cell_type": "markdown",
   "id": "9c9c431c-73cb-4b11-aca4-e13a43e3a279",
   "metadata": {},
   "source": [
    "### Higher-order Interactions in Time\n",
    "An <code>ASH</code> object can be grown by adding one interaction (i.e., an hyperedge) at a time. Each interaction is univocally defined by an arbitrarily-large set of nodes, and has a start and a end timestamp, indicating its appearance and disappearance times respectively."
   ]
  },
  {
   "cell_type": "code",
   "execution_count": 29,
   "id": "74c95c91-dda7-40ac-bb02-6fe7cd641462",
   "metadata": {
    "ExecuteTime": {
     "end_time": "2024-10-01T11:40:49.057250Z",
     "start_time": "2024-10-01T11:40:49.054398Z"
    }
   },
   "outputs": [],
   "source": [
    "h.add_hyperedge({1,2,3,4}, start=0, end=1)"
   ]
  },
  {
   "cell_type": "markdown",
   "id": "fdd961f4-875e-40ce-b481-008679d3ce25",
   "metadata": {},
   "source": [
    "If nodes are not already present in the <code>ASH</code>, they will be automatically added when they appear in an interaction. In the above example the interaction <code>{1,2,3,4}</code> appears at time 0 and vanishes at time 1, thus being present in both timestamps. \n",
    "\n",
    "If the <code>end</code> parameter is omitted, the hyperedge will only be active at <code>start</code>. \n",
    "\n",
    "Moreover, hyperedges are associated with a unique <code>str</code> identifier of the form \"en\" where n is a positive number:"
   ]
  },
  {
   "cell_type": "code",
   "execution_count": 30,
   "id": "518159a2-52a2-4f87-9b86-6a4173a4ab13",
   "metadata": {
    "ExecuteTime": {
     "end_time": "2024-10-01T11:40:49.591446Z",
     "start_time": "2024-10-01T11:40:49.588274Z"
    }
   },
   "outputs": [
    {
     "data": {
      "text/plain": [
       "{'e1'}"
      ]
     },
     "execution_count": 30,
     "metadata": {},
     "output_type": "execute_result"
    }
   ],
   "source": [
    "h.get_hyperedge_id_set()"
   ]
  },
  {
   "cell_type": "markdown",
   "id": "352b1d7b-4392-4434-a407-a4c64c131005",
   "metadata": {},
   "source": [
    "Multiple interactions can be added at the same time: in such scenario all the interactions in the list will have the same appearance and disappearance times."
   ]
  },
  {
   "cell_type": "code",
   "execution_count": 31,
   "id": "7657ef4d-a089-4417-b5ad-66bc5274aedd",
   "metadata": {
    "ExecuteTime": {
     "end_time": "2024-10-01T11:40:50.310420Z",
     "start_time": "2024-10-01T11:40:50.307295Z"
    }
   },
   "outputs": [],
   "source": [
    "h.add_hyperedges([{1,2,3}, {2, 3}, {3, 1, 4}], start=1, end=2)"
   ]
  },
  {
   "cell_type": "markdown",
   "id": "aa7af823-de31-412c-b1a4-fd12d9874c49",
   "metadata": {},
   "source": [
    "The same method can be used to add any <code>ebunch</code> of interaction. An ebunch is any iterable container of interactions.\n"
   ]
  },
  {
   "cell_type": "code",
   "execution_count": 32,
   "id": "ca4d08df-fe5d-4671-bb06-65f1d19de723",
   "metadata": {
    "ExecuteTime": {
     "end_time": "2024-10-01T11:40:51.069082Z",
     "start_time": "2024-10-01T11:40:51.019965Z"
    }
   },
   "outputs": [],
   "source": [
    "import networkx as nx\n",
    "g = nx.barabasi_albert_graph(n=500, m=3)\n",
    "h.add_hyperedges(nx.find_cliques(g), start=0)"
   ]
  },
  {
   "cell_type": "markdown",
   "id": "caff31fd-d8ca-4feb-91a9-b34a709408e7",
   "metadata": {},
   "source": [
    "One of the factors that make <code>ash</code> faster with respect to other hypergraph libraries is the O(1) access it provides to a node's star. That is to say that given a node is is possible to easily get the set of hyperedges it is contained in. It is also possible to conveniently restrict the result to hyperedges of a given size and/or active at a given timestamp:\n",
    "\n"
   ]
  },
  {
   "cell_type": "code",
   "execution_count": 33,
   "id": "48ce3d80-5ab0-4848-a9a3-521945f30102",
   "metadata": {
    "ExecuteTime": {
     "end_time": "2024-10-01T11:40:51.913619Z",
     "start_time": "2024-10-01T11:40:51.908570Z"
    }
   },
   "outputs": [
    {
     "data": {
      "text/plain": [
       "{'e1',\n",
       " 'e1082',\n",
       " 'e109',\n",
       " 'e1093',\n",
       " 'e1115',\n",
       " 'e1157',\n",
       " 'e1239',\n",
       " 'e1253',\n",
       " 'e1259',\n",
       " 'e1266',\n",
       " 'e1278',\n",
       " 'e16',\n",
       " 'e193',\n",
       " 'e2',\n",
       " 'e20',\n",
       " 'e206',\n",
       " 'e207',\n",
       " 'e208',\n",
       " 'e262',\n",
       " 'e263',\n",
       " 'e291',\n",
       " 'e338',\n",
       " 'e38',\n",
       " 'e4',\n",
       " 'e40',\n",
       " 'e412',\n",
       " 'e515',\n",
       " 'e609',\n",
       " 'e61',\n",
       " 'e613',\n",
       " 'e703',\n",
       " 'e805',\n",
       " 'e82',\n",
       " 'e88',\n",
       " 'e885',\n",
       " 'e897'}"
      ]
     },
     "execution_count": 33,
     "metadata": {},
     "output_type": "execute_result"
    }
   ],
   "source": [
    "h.get_star(1) # set of ids of the hyperedges that contain node 1"
   ]
  },
  {
   "cell_type": "code",
   "execution_count": 34,
   "id": "f77fa997-919f-4f92-ba06-80184160f355",
   "metadata": {
    "ExecuteTime": {
     "end_time": "2024-10-01T11:40:52.759932Z",
     "start_time": "2024-10-01T11:40:52.756260Z"
    }
   },
   "outputs": [
    {
     "data": {
      "text/plain": [
       "{'e1'}"
      ]
     },
     "execution_count": 34,
     "metadata": {},
     "output_type": "execute_result"
    }
   ],
   "source": [
    "h.get_star(1, hyperedge_size=4, tid=0) # set of ids of the hyperedges that contain node 1,\n",
    "                                       # have size 4\n",
    "                                       # and are active at time 0"
   ]
  },
  {
   "cell_type": "markdown",
   "id": "f3a6602f-a70a-48bd-a919-2eee375e6462",
   "metadata": {},
   "source": [
    "## Node Profiles: Enrich Your Hypergraph!\n",
    "As for hyperedges, it is also possible to add one node at a time, specifying start, or start and end timestamps. The same can be done for multiple nodes at a time, which will all have the same start and end timestamps:\n"
   ]
  },
  {
   "cell_type": "code",
   "execution_count": 35,
   "id": "7b0ec2b6-44af-4609-b6e7-28cc847e050a",
   "metadata": {
    "ExecuteTime": {
     "end_time": "2024-10-01T11:40:53.861362Z",
     "start_time": "2024-10-01T11:40:53.858631Z"
    }
   },
   "outputs": [],
   "source": [
    "# one node at a time\n",
    "h.add_node(0, start=0)\n",
    "h.add_node(1, start=0, end=1)\n",
    "\n",
    "# multiple nodes, same time window\n",
    "#h.add_nodes([1,2,3], start=0)\n",
    "#h.add_nodes([4,5,6], start=0, end=1)"
   ]
  },
  {
   "cell_type": "markdown",
   "id": "d3ae7157-752b-460e-81ca-656aa386bc11",
   "metadata": {},
   "source": [
    "To incorporate the semantics on nodes, ash leverages the <code>NProfile</code> class. This structure can be used to contain the attributes of a node:\n",
    "\n"
   ]
  },
  {
   "cell_type": "code",
   "execution_count": 36,
   "id": "3fe690b7-5bae-428b-bd79-c238016295ed",
   "metadata": {
    "ExecuteTime": {
     "end_time": "2024-10-01T11:40:54.730850Z",
     "start_time": "2024-10-01T11:40:54.727673Z"
    }
   },
   "outputs": [],
   "source": [
    "from ash_model import NProfile\n",
    "profile = NProfile(node_id=1, name='Alice', party='L') # add attributes at creation\n",
    "profile.add_attribute('age', 24) # add attribute with dedicated method"
   ]
  },
  {
   "cell_type": "markdown",
   "id": "bd7f5c47-497a-41c5-8495-1de74c624e12",
   "metadata": {},
   "source": [
    "Node profiles can be incorporated in the <code>ASH</code> when adding a new node. This allows to model change in the node attributes by adding the same node at different times with different profiles:"
   ]
  },
  {
   "cell_type": "code",
   "execution_count": 37,
   "id": "98e21603-26ec-44dc-bf29-59f587c72012",
   "metadata": {
    "ExecuteTime": {
     "end_time": "2024-10-01T11:40:55.446636Z",
     "start_time": "2024-10-01T11:40:55.443202Z"
    }
   },
   "outputs": [],
   "source": [
    "profile = NProfile(node_id=1, name='Alice', party='L', age=24)\n",
    "h.add_node(1, start=0, attr_dict=profile)\n",
    "profile2 = NProfile(node_id=1, name='Alice', party='R', age=25)\n",
    "h.add_node(1, start=1, attr_dict=profile2)"
   ]
  },
  {
   "cell_type": "markdown",
   "id": "749e826f-e0b3-4fdb-be41-b9277adaed82",
   "metadata": {},
   "source": [
    "To see all information on a node profile through time, you can use the following:"
   ]
  },
  {
   "cell_type": "code",
   "execution_count": 38,
   "id": "4dbdb867-8f60-48ab-80ec-1a7b16f69705",
   "metadata": {
    "ExecuteTime": {
     "end_time": "2024-10-01T11:40:56.401715Z",
     "start_time": "2024-10-01T11:40:56.396721Z"
    }
   },
   "outputs": [
    {
     "data": {
      "text/plain": [
       "{'t': [[0, 1]],\n",
       " 'name': {0: 'Alice', 1: 'Alice'},\n",
       " 'party': {0: 'L', 1: 'R'},\n",
       " 'age': {0: 24, 1: 25}}"
      ]
     },
     "execution_count": 38,
     "metadata": {},
     "output_type": "execute_result"
    }
   ],
   "source": [
    "profile = h.get_node_profile(1)\n",
    "attrs = profile.get_attributes()\n",
    "attrs"
   ]
  },
  {
   "cell_type": "markdown",
   "id": "06fc080a-5784-41e0-aa78-d28e838ad731",
   "metadata": {},
   "source": [
    "## Time Respecting s-Walks\n",
    "\n",
    "<code>ash</code> integrates the s-analysis framework to generalize classic graph measures to hypergraphs, and extends it with temporal information. In short, walks are extended to hypergraphs based on a parameter <code>s</code>, which controls the minimum number of common nodes between subsequent hyperedges.\n",
    "\n",
    "Most of these features are available in the <code>paths</code> module.\n",
    "\n"
   ]
  },
  {
   "cell_type": "code",
   "execution_count": 39,
   "id": "54d4d352-cafc-4453-aa58-44be73e2e958",
   "metadata": {
    "ExecuteTime": {
     "end_time": "2024-10-01T11:41:02.663352Z",
     "start_time": "2024-10-01T11:41:02.655154Z"
    }
   },
   "outputs": [
    {
     "data": {
      "text/plain": [
       "True"
      ]
     },
     "execution_count": 39,
     "metadata": {},
     "output_type": "execute_result"
    }
   ],
   "source": [
    "from ash_model import paths\n",
    "\n",
    "h = ASH()\n",
    "h.add_hyperedge([1,2,3], start=0) # e1\n",
    "h.add_hyperedge([2,3,4], start=0) # e2\n",
    "h.add_hyperedge([4,5,6], start=0) # e3\n",
    "h.add_hyperedge([1,2,3,4,5, 6], start=0) # e4\n",
    "s = 2\n",
    "\n",
    "paths.has_s_walk(h, s, \"e1\", \"e3\")"
   ]
  },
  {
   "cell_type": "code",
   "execution_count": 40,
   "id": "77c496a6-53a6-4579-bd8c-b992b8a965cc",
   "metadata": {
    "ExecuteTime": {
     "end_time": "2024-10-01T11:41:03.028938Z",
     "start_time": "2024-10-01T11:41:03.023706Z"
    }
   },
   "outputs": [
    {
     "data": {
      "text/plain": [
       "['e1', 'e4', 'e3']"
      ]
     },
     "execution_count": 40,
     "metadata": {},
     "output_type": "execute_result"
    }
   ],
   "source": [
    "paths.shortest_s_walk(h, s, \"e1\", \"e3\")"
   ]
  },
  {
   "cell_type": "code",
   "execution_count": 41,
   "id": "1687de41-d43a-4c95-b298-c591138a869e",
   "metadata": {
    "ExecuteTime": {
     "end_time": "2024-10-01T11:41:03.472815Z",
     "start_time": "2024-10-01T11:41:03.468875Z"
    }
   },
   "outputs": [
    {
     "data": {
      "text/plain": [
       "1.6666666666666667"
      ]
     },
     "execution_count": 41,
     "metadata": {},
     "output_type": "execute_result"
    }
   ],
   "source": [
    "paths.average_s_distance(h, s=2)"
   ]
  },
  {
   "cell_type": "markdown",
   "id": "f3c777c9-16b5-4589-8af3-62b2de1a0583",
   "metadata": {},
   "source": [
    "For more info on the s-analysis framework please refer to the original paper. The novelty with <code>ASH</code> is the extension to the dynamic scenario. This means that <code>ASH</code> is able to compute time-respecting s-walks."
   ]
  },
  {
   "cell_type": "code",
   "execution_count": 42,
   "id": "118e6db2-ef68-4ff8-900b-48aed0b22e78",
   "metadata": {
    "ExecuteTime": {
     "end_time": "2024-10-01T11:41:04.595285Z",
     "start_time": "2024-10-01T11:41:04.590880Z"
    }
   },
   "outputs": [],
   "source": [
    "h = ASH()\n",
    "h.add_hyperedge([1, 2, 3], 0, 1)\n",
    "h.add_hyperedge([1, 4], 1, 2)\n",
    "h.add_hyperedge([1, 2, 3, 4], 2, 3)\n",
    "trsw = paths.time_respecting_s_walks(h, s=1, hyperedge_from='e1', hyperedge_to='e3')"
   ]
  },
  {
   "cell_type": "code",
   "execution_count": 43,
   "id": "5acee5fb-1d9f-4697-89ac-0f89dd733f59",
   "metadata": {
    "ExecuteTime": {
     "end_time": "2024-10-01T11:41:05.315266Z",
     "start_time": "2024-10-01T11:41:05.312194Z"
    }
   },
   "outputs": [
    {
     "name": "stdout",
     "output_type": "stream",
     "text": [
      "Fastest: [(TemporalEdge(fr='e1', to='e2', weight=1, tid=1), TemporalEdge(fr='e2', to='e3', weight=2, tid=2))]\n"
     ]
    }
   ],
   "source": [
    "for _, ap in trsw.items():\n",
    "   walks = paths.annotate_walks(ap)\n",
    "   print('Fastest:', walks['fastest'])"
   ]
  },
  {
   "cell_type": "markdown",
   "id": "a733595e-3a04-4662-8cb2-9c9ddcdee9c0",
   "metadata": {},
   "source": [
    "In the above example, first we get all time respecting s-walks; then we annotate each path and print the fastest ones. Other choices include fastest, heaviest, and all possible combinations."
   ]
  },
  {
   "cell_type": "code",
   "execution_count": 44,
   "id": "f5c5e344-f71b-4b72-9a70-39c11c207bf7",
   "metadata": {
    "ExecuteTime": {
     "end_time": "2024-10-01T11:41:06.723824Z",
     "start_time": "2024-10-01T11:41:06.721208Z"
    }
   },
   "outputs": [
    {
     "name": "stdout",
     "output_type": "stream",
     "text": [
      "available walks:\n",
      "\n",
      "shortest\n",
      "fastest\n",
      "shortest_fastest\n",
      "shortest_heaviest\n",
      "fastest_shortest\n",
      "fastest_heaviest\n",
      "foremost\n",
      "heaviest\n",
      "heaviest_fastest\n",
      "heaviest_shortest\n"
     ]
    }
   ],
   "source": [
    "print('available walks:\\n\\n'+ '\\n'.join(walks.keys()))"
   ]
  },
  {
   "cell_type": "markdown",
   "id": "c19aa81c-ffd3-4d1b-ac8f-3b96630aac04",
   "metadata": {},
   "source": [
    "## Navigating in Time\n",
    "The timestamps associated to the hyperedges can be retrieved through:"
   ]
  },
  {
   "cell_type": "code",
   "execution_count": 45,
   "id": "4c3f03e9-3b01-4a0a-8191-dfdd70828e14",
   "metadata": {
    "ExecuteTime": {
     "end_time": "2024-10-01T11:41:13.672797Z",
     "start_time": "2024-10-01T11:41:13.669493Z"
    }
   },
   "outputs": [
    {
     "data": {
      "text/plain": [
       "[0, 1, 2, 3]"
      ]
     },
     "execution_count": 45,
     "metadata": {},
     "output_type": "execute_result"
    }
   ],
   "source": [
    "h.temporal_snapshots_ids()"
   ]
  },
  {
   "cell_type": "markdown",
   "id": "5ea2a9e6-56b2-478a-92b5-a54b4b50f947",
   "metadata": {},
   "source": [
    "Several methods return statistics about the flattened (i.e., static, aggregated) hypergraph. To get the same statistic considering a specific timestamp, you can use the <code>tid</code> parameter"
   ]
  },
  {
   "cell_type": "code",
   "execution_count": 46,
   "id": "56b541f2-5ac5-4dad-9003-f8e667c5afa5",
   "metadata": {
    "ExecuteTime": {
     "end_time": "2024-10-01T11:41:15.194805Z",
     "start_time": "2024-10-01T11:41:15.191736Z"
    }
   },
   "outputs": [
    {
     "name": "stdout",
     "output_type": "stream",
     "text": [
      "Number of nodes: 4\n",
      "Number of nodes at time 2: 0\n"
     ]
    }
   ],
   "source": [
    "print('Number of nodes:', h.get_number_of_nodes()) # count nodes in the hypergraph\n",
    "print('Number of nodes at time 2:', h.get_number_of_nodes(tid=5))  # count nodes active at time 5"
   ]
  },
  {
   "cell_type": "markdown",
   "id": "397306a0-7873-4ee6-863c-3f5ae4da6e3f",
   "metadata": {},
   "source": [
    "it is possible to extract a time slice from an ASH, i.e., a time-span hypergraph. This returns a new ASH. Since the hyperedge ids of each hypergraph start at e1, a mapping from old to new hyperedge ids is also returned."
   ]
  },
  {
   "cell_type": "code",
   "execution_count": 47,
   "id": "5acdfcae-4835-49ba-8802-18bf15580c28",
   "metadata": {
    "ExecuteTime": {
     "end_time": "2024-10-01T11:41:16.192888Z",
     "start_time": "2024-10-01T11:41:16.189563Z"
    }
   },
   "outputs": [
    {
     "data": {
      "text/plain": [
       "{'e1'}"
      ]
     },
     "execution_count": 47,
     "metadata": {},
     "output_type": "execute_result"
    }
   ],
   "source": [
    "s, eold_to_emew = h.hypergraph_temporal_slice(start=2, end=3)\n",
    "s.get_hyperedge_id_set()"
   ]
  },
  {
   "cell_type": "code",
   "execution_count": 48,
   "id": "5a290eff-b00e-4e99-856c-811551da89e7",
   "metadata": {
    "ExecuteTime": {
     "end_time": "2024-10-01T11:41:16.741482Z",
     "start_time": "2024-10-01T11:41:16.738555Z"
    }
   },
   "outputs": [
    {
     "data": {
      "text/plain": [
       "{'e3': 'e1'}"
      ]
     },
     "execution_count": 48,
     "metadata": {},
     "output_type": "execute_result"
    }
   ],
   "source": [
    "eold_to_emew"
   ]
  },
  {
   "cell_type": "markdown",
   "id": "dca91e68-3723-42ea-b69d-7055cf6c27f5",
   "metadata": {},
   "source": [
    "A dynamic hypernetwork can be also described as stream of interactions, a chronologically ordered list of interactions.\n",
    "the <code>stream_interactions</code> method returns a generator that streams the interactions in <code>h</code>, where <code>e</code> is a 3-tuple (<code>tid</code>, <code>he_id</code>, <code>op</code>):\n",
    "\n",
    "- <code>tid</code> is the interactions timestamp\n",
    "\n",
    "- <code>he_id</code> is the id associated with the corresponding hyperedge\n",
    "\n",
    "- <code>op</code> is a hyperedge creation or deletion event (respectively +, -)"
   ]
  },
  {
   "cell_type": "code",
   "execution_count": 49,
   "id": "13287571-3948-49d2-92e8-67b63bf7c24b",
   "metadata": {
    "ExecuteTime": {
     "end_time": "2024-10-01T11:41:18.118759Z",
     "start_time": "2024-10-01T11:41:18.116349Z"
    }
   },
   "outputs": [
    {
     "name": "stdout",
     "output_type": "stream",
     "text": [
      "(0, 'e1', '+')\n",
      "(1, 'e2', '+')\n",
      "(2, 'e3', '+')\n"
     ]
    }
   ],
   "source": [
    "for e in h.stream_interactions():\n",
    "   print(e)"
   ]
  },
  {
   "cell_type": "markdown",
   "id": "f7164cd0-8be5-4729-bf2f-80715692a580",
   "metadata": {},
   "source": [
    "## Higher-order mixing patterns\n",
    "This package allows studying several properties of higher-order systems, particularly with respect to node attributes, how they affect connectivity patterns, and how they change in time. First, let us create a hypergraph with dynamic node attributes."
   ]
  },
  {
   "cell_type": "code",
   "execution_count": 70,
   "id": "de5b85c3-1cfb-495f-8bcb-69578ecacf96",
   "metadata": {},
   "outputs": [],
   "source": [
    "a = ASH(hedge_removal=True)\n",
    "a.add_hyperedge([1, 2, 3], 0)\n",
    "a.add_hyperedge([1, 4], 0)\n",
    "a.add_hyperedge([1, 2, 3, 4], 0)\n",
    "a.add_hyperedge([1, 3, 4], 1)\n",
    "a.add_hyperedge([3, 4], 1)\n",
    "\n",
    "a.add_node(\n",
    "    1,\n",
    "    start=0,\n",
    "    end=0,\n",
    "    attr_dict=NProfile(node_id=1, party=\"L\", age=37, gender=\"M\"),\n",
    ")\n",
    "a.add_node(\n",
    "    1,\n",
    "    start=1,\n",
    "    end=1,\n",
    "    attr_dict=NProfile(node_id=1, party=\"R\", age=37, gender=\"M\"),\n",
    ")\n",
    "a.add_node(\n",
    "    2,\n",
    "    start=0,\n",
    "    end=0,\n",
    "    attr_dict=NProfile(node_id=2, party=\"L\", age=20, gender=\"F\"),\n",
    ")\n",
    "a.add_node(\n",
    "    3,\n",
    "    start=0,\n",
    "    end=1,\n",
    "    attr_dict=NProfile(node_id=3, party=\"L\", age=11, gender=\"F\"),\n",
    ")\n",
    "a.add_node(\n",
    "    4,\n",
    "    start=0,\n",
    "    end=1,\n",
    "    attr_dict=NProfile(node_id=4, party=\"R\", age=45, gender=\"M\"),\n",
    ")"
   ]
  },
  {
   "cell_type": "markdown",
   "id": "78dfc3cf-81d2-492a-8b44-c6d9fbf49b6a",
   "metadata": {},
   "source": [
    "Then, we can compute the hyperedge entropy with respect to categorical attributes"
   ]
  },
  {
   "cell_type": "code",
   "execution_count": 71,
   "id": "8fc2e926-eec7-4ff2-a3b2-73fcd29fe5c8",
   "metadata": {},
   "outputs": [
    {
     "data": {
      "text/plain": [
       "{'party': 1.0, 'gender': 0}"
      ]
     },
     "execution_count": 71,
     "metadata": {},
     "output_type": "execute_result"
    }
   ],
   "source": [
    "from ash_model import measures\n",
    "\n",
    "measures.hyperedge_profile_entropy(a, hyperedge_id='e2', tid=0)  "
   ]
  },
  {
   "cell_type": "markdown",
   "id": "0d7ea4e5-03d2-4197-9e67-efba3aa2ef5e",
   "metadata": {},
   "source": [
    "Or the most frequent attribute value and its frequency"
   ]
  },
  {
   "cell_type": "code",
   "execution_count": 75,
   "id": "9859aecc-4956-409f-9fff-18e180a49ee5",
   "metadata": {},
   "outputs": [
    {
     "data": {
      "text/plain": [
       "{'party': {'L': 1.0}, 'gender': {'F': 0.6666666666666666}}"
      ]
     },
     "execution_count": 75,
     "metadata": {},
     "output_type": "execute_result"
    }
   ],
   "source": [
    "measures.hyperedge_profile_purity(a, hyperedge_id='e1', tid=0)  "
   ]
  },
  {
   "cell_type": "markdown",
   "id": "f20e7461-da3a-4b1b-8ab0-8756ffd54fa9",
   "metadata": {},
   "source": [
    "Other statistics include the average degree for each group (i.e., nodes having the same label)"
   ]
  },
  {
   "cell_type": "code",
   "execution_count": 76,
   "id": "605d4c19-2381-49b2-888c-596d0f3d1245",
   "metadata": {},
   "outputs": [
    {
     "data": {
      "text/plain": [
       "{'party': {'R': 2.0, 'L': 2.3333333333333335}, 'gender': {'F': 2.0, 'M': 2.5}}"
      ]
     },
     "execution_count": 76,
     "metadata": {},
     "output_type": "execute_result"
    }
   ],
   "source": [
    "measures.average_group_degree(a, tid=0)"
   ]
  },
  {
   "cell_type": "markdown",
   "id": "27daabde-0858-49b4-bc56-627a681a1010",
   "metadata": {},
   "source": [
    "With respect to temporal measures, consistency computes the complementary of the entropy of a node's attribute through time. This can tell us whether the node kept the same attribute value over time (1) or not (0)"
   ]
  },
  {
   "cell_type": "code",
   "execution_count": 74,
   "id": "8af99065-00da-470f-a19a-d6d355374569",
   "metadata": {},
   "outputs": [
    {
     "data": {
      "text/plain": [
       "defaultdict(dict,\n",
       "            {1: {'party': 0.0, 'age': 1, 'gender': 1},\n",
       "             2: {'party': 1, 'age': 1, 'gender': 1},\n",
       "             3: {'party': 1, 'age': 1, 'gender': 1},\n",
       "             4: {'party': 1, 'age': 1, 'gender': 1}})"
      ]
     },
     "execution_count": 74,
     "metadata": {},
     "output_type": "execute_result"
    }
   ],
   "source": [
    "measures.consistency(a)"
   ]
  },
  {
   "cell_type": "markdown",
   "id": "ba6a7b9c-05d5-4351-a29f-bfae2bf87d8e",
   "metadata": {},
   "source": [
    "Reading and Writing\n",
    "-------------------\n",
    "\n",
    "``ash`` allows to read/write hypernetworks in two ways, either:\n",
    "\n",
    " - from/to separate files for interactions and node profiles\n",
    " - from/to a single file\n",
    "\n",
    "\n",
    "The former format allows to read/write interactions and node profiles separately. For the hyperedges:\n",
    "\n",
    "\n"
   ]
  },
  {
   "cell_type": "code",
   "execution_count": null,
   "id": "5b540d62-804f-4151-aaf7-5f17ee1e7562",
   "metadata": {},
   "outputs": [],
   "source": [
    "from ash_model import readwrite as io\n",
    "io.write_sh_to_csv(h, filename)\n",
    "h = io.read_sh_from_csv(filename)"
   ]
  },
  {
   "cell_type": "markdown",
   "id": "6212f85b-fd97-4e58-9ad9-a986eea22e85",
   "metadata": {},
   "source": [
    "where each row is a tab-separated list of the form ``[nodes -> start, end]``, with ``nodes`` being the members of each interactions, and ``start, end`` the appearance-disappearance times of the interactions.\n",
    "Likewise, for the profiles:"
   ]
  },
  {
   "cell_type": "code",
   "execution_count": null,
   "id": "fe351c58-489d-45ab-97f4-3b696b053737",
   "metadata": {},
   "outputs": [],
   "source": [
    "io.write_profiles_to_csv(h, filename)\n",
    "profiles = io.read_profiles_from_csv(filename)"
   ]
  },
  {
   "cell_type": "markdown",
   "id": "eff277e3-23b5-434c-9759-e3a034ba17b7",
   "metadata": {},
   "source": [
    "where each row is a comma-separated list of the form ``[node_id, tid, attr1, attr2...]``. Nodes that appear multiple times are stored as a separate row for each time they are active.\n",
    "Profiles can also be stored as a jsonl file with similar structure:\n"
   ]
  },
  {
   "cell_type": "code",
   "execution_count": null,
   "id": "b2e5afeb-6eab-4a7c-853b-4d951b715724",
   "metadata": {},
   "outputs": [],
   "source": [
    "io.write_profiles_to_jsonl(h, filename)\n",
    "    profiles = io.read_profiles_from_jsonl(filename)"
   ]
  },
  {
   "cell_type": "markdown",
   "id": "0502d57e-4a31-4d7d-b55c-5bc6682953b1",
   "metadata": {},
   "source": [
    "The latter format encloses the whole ``ASH`` in a ``json`` file"
   ]
  },
  {
   "cell_type": "code",
   "execution_count": null,
   "id": "fe0eaf44-32bf-452b-92b3-1c0ac198cf1e",
   "metadata": {},
   "outputs": [],
   "source": [
    "io.write_ash_to_json(h, filename)\n",
    "h = io.read_ash_from_json(filename)"
   ]
  }
 ],
 "metadata": {
  "kernelspec": {
   "display_name": "Python 3 (ipykernel)",
   "language": "python",
   "name": "python3"
  },
  "language_info": {
   "codemirror_mode": {
    "name": "ipython",
    "version": 3
   },
   "file_extension": ".py",
   "mimetype": "text/x-python",
   "name": "python",
   "nbconvert_exporter": "python",
   "pygments_lexer": "ipython3",
   "version": "3.11.9"
  }
 },
 "nbformat": 4,
 "nbformat_minor": 5
}
